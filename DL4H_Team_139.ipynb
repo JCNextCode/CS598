{
  "nbformat": 4,
  "nbformat_minor": 0,
  "metadata": {
    "colab": {
      "private_outputs": true,
      "provenance": []
    },
    "kernelspec": {
      "name": "python3",
      "display_name": "Python 3"
    },
    "language_info": {
      "name": "python"
    }
  },
  "cells": [
    {
      "cell_type": "markdown",
      "source": [
        "# Introduction\n",
        "\n",
        "*   Background of the problem\n",
        "  * **Type of Problem** :The paper focuses on predicting readmission to the ICU.  It also involves feature engineering and data processing of electronic medical records.\n",
        "\n",
        "  * **Importance** : Predicting ICU readmission can help improve patient outcomes and reduce healthcare cost by identifying individuals at higher risk and enabling timely interventions.\n",
        "\n",
        "  * **Difficulty** : This is challenging due to the complexity of medical data, the need for interpretable models that can be integrated into clinical workflows, and the high dimensionality of EMR data.\n",
        "\n",
        "  * **State of the Art Methods and Effectiveness** : The study benchmarks various deep learning models, including those utilizing attention mechanisms recurrent layers, and neural ODEs.  The effectiveless is measured by metrics like AUROC and F1-Score.\n",
        "\n",
        "*   Paper explanation\n",
        "  * **Proposal** : Study introduces and evaluates multiple deep learning frameworks to handle irregular time-series data from EMRs, focusing on interpretability and prediction accuracy.\n",
        "\n",
        "  * **Innovations of the Method** : Innovations include the use of time-aware attention and neural ODEs for dynamic embeddings of medical concepts, aiming to improve the relevance and accuracy of the predictions.\n",
        "\n",
        "  * **Effectiveness of the Proposal** : Showed competitive predictive performance, with the best models achieving an average precision score of 0.331, AUROC of 0.739, anf F1-Score of 0.375.\n",
        "\n",
        "  * **Contribution to Research Regime** : The paper contributes significantly by comparing different architectures and offering a comprehensive study on their applicability for ICU readmission prediction.  This research aids in understanding how different models handle the complexity of EMR data and their practical utility in a clinical setting.\n"
      ],
      "metadata": {
        "id": "MQ0sNuMePBXx"
      }
    },
    {
      "cell_type": "markdown",
      "source": [
        "# Scope of Reproducibility:\n",
        "\n",
        "### Hypothesis 1 :\n",
        "\n",
        "Attention mechanisms improve the interpretability of ICU readmission predictions without significantly compromising the predictive accuracy.\n",
        "\n",
        "- **Experiment**: Implement a basic Recurrent Neural Network (RNN) model and compare it with an RNN that incorporates an attention mechanism.\n",
        "Use PyTorch for modeling. Evaluate both models on metrics such as accuracy, AUROC, and interpretability (via attention visualization).\n",
        "\n",
        "<br>\n",
        "\n",
        "### Hypothesis 2 :\n",
        "Models utilizing time-aware attention mechanisms outperform traditional RNNs in handling irregular time intervals in ICU data.\n",
        "\n",
        "- **Experiment**: Create two models, one with a traditional RNN and another with a time-aware attention mechanism. Train both on ICU readmission data with irregular time intervals. Compare their performance using AUROC and F1-Score.\n",
        "\n",
        "<br>\n",
        "\n",
        "### Hypothesis 3:\n",
        "Neural ODEs can effectively model the dynamic medical states of ICU patients, leading to better prediction performance than static models.\n",
        "\n",
        "- **Experiment**: Develop a model using Neural Ordinary Differential Equations (Neural ODEs) and compare it against a standard neural network model. Use the MIMIC-III dataset, and measure the effectiveness based on AUROC, precision, and recall."
      ],
      "metadata": {
        "id": "uygL9tTPSVHB"
      }
    },
    {
      "cell_type": "markdown",
      "source": [
        "# Methodology\n"
      ],
      "metadata": {
        "id": "xWAHJ_1CdtaA"
      }
    },
    {
      "cell_type": "code",
      "source": [
        "# import  packages\n",
        "import numpy as np\n",
        "import tensorflow as tf\n",
        "from tensorflow.keras.models import Model\n",
        "from tensorflow.keras.layers import Input, LSTM, Dense, Attention\n",
        "from google.colab import drive\n",
        "\n",
        "\n",
        "def build_attention_model():\n",
        "\n",
        "def build_time_aware_model():\n",
        "\n",
        "def build_neural_ode_model()"
      ],
      "metadata": {
        "id": "9lChLiNOJV8i"
      },
      "execution_count": null,
      "outputs": []
    },
    {
      "cell_type": "markdown",
      "source": [
        "##  Data\n",
        "\n",
        "### Source\n",
        "Experiment utilizes MIMIC-III.  It contains data associated with 53,423 distinct hospital admissions for adult patients (aged 16 or above) admitted to critical care units between 2001 and 2012.\n",
        "\n",
        "Of these we will be using the ADMISSIONS, PATIENTS, ICUSTAYS, and SERVICES tables.\n",
        "\n",
        "Another table for cross-referencing codes will be used.  There are 5 tables for these and they are D_CPT, D_ICD_DIAGNOSES, D_ICD_PROCEDURES, D_ITEMS and D_LABITEMS\n",
        "\n",
        "<br>\n",
        "\n",
        "### LINK to the Dataset\n",
        "\n",
        "https://physionet.org/content/mimiciii/1.4/\n",
        "\n",
        "<br>\n",
        "\n",
        "### Statistics:\n",
        "\n",
        "Will be using common split of 70% for training, 15% for validation, 15% for testing.  (This may be later changed).\n",
        "\n"
      ],
      "metadata": {
        "id": "2NbPHUTMbkD3"
      }
    },
    {
      "cell_type": "markdown",
      "source": [
        "##   Model\n",
        "\n",
        "\n",
        "### Basic LSTM Model\n",
        "Structured around the Long Short-Term Memory (LSTM) unit, a type of RNN suited for sequence prediction problems.\n",
        "  - Input Layer, LSTM Layers, and Output Layer are included\n",
        "  - First LSTM layer returns sequences, and second LSTM condenses the information inot a single output.\n",
        "  - Output layer will use sigmoid activation to output the probability of ICU readmission.\n",
        "\n",
        "### LSTM with Attention Model\n",
        "Enhancement of Basic LSTM to include attention mechanism.\n",
        "  - Input Layer, LSTM Layers, and Output Layer are included\n",
        "  - LSTM Layer processes the input sequence, providing a sequence output.\n",
        "  - Attention Layer focuses on the important parts of the sequce as determined by the model during training.  \n",
        "  - Dense layer processes the weighted sum of LSTM outputs.\n",
        "\n",
        "### Neural ODE Model\n",
        "Provides a continuous-time approach to modeling dynamic systems.\n",
        "  - Neural ODEs replace traditional layers with a continuous-time dynamic system modeled by ODEs.\n",
        "  - Layers: Start with an input transformation, passes through the ODE solver which evolves the hidden state, and ends with an output transformation layer that formats the final state to the desired output shape.\n",
        "\n",
        "\n"
      ],
      "metadata": {
        "id": "3muyDPFPbozY"
      }
    },
    {
      "cell_type": "code",
      "source": [
        "\n",
        "#Hypothesis 1\n",
        "class BasicLSTMModel:\n",
        "  def __init__(self, input_shape):\n",
        "\n",
        "#Hypothesis 2\n",
        "class LSTMAttentionModel:\n",
        "  def __init__(self, input_shape):\n",
        "\n",
        "#Hypothesis 3\n",
        "class NeuralODEModel:\n",
        "  def __init__(self, input_shape):"
      ],
      "metadata": {
        "id": "gBdVZoTvsSFV"
      },
      "execution_count": null,
      "outputs": []
    },
    {
      "cell_type": "markdown",
      "source": [
        "# Results\n",
        "\n",
        "- Load and Test models : check model performance based on a given test set.\n",
        "- Measure accuracy, AUC, RMSE for each model to provide quantitative evaluation.\n",
        "- Plot loss over epochs to help analyze model training dynamics and convergence.\n"
      ],
      "metadata": {
        "id": "gX6bCcZNuxmz"
      }
    },
    {
      "cell_type": "markdown",
      "source": [
        "## Model comparison"
      ],
      "metadata": {
        "id": "8EAWAy_LwHlV"
      }
    },
    {
      "cell_type": "code",
      "source": [
        "import tensorflow as tf\n",
        "import matplotlib.pyplot as plt\n",
        "\n",
        "def plot_metrics(history, metric_name, title):\n",
        "\n",
        "# Test the model on the test set\n",
        "y_pred1 = model1.predict(X_test)\n",
        "y_pred2 = model2.predict(X_test)\n",
        "y_pred3 = model3.predict(X_test)\n",
        "\n",
        "# Calculate metrics\n",
        "\n",
        "plot_metrics(history1, 'loss', 'Model 1 Loss Shrinkage')\n",
        "plot_metrics(history2, 'loss', 'Model 2 Loss Shrinkage')\n",
        "plot_metrics(history3, 'loss', 'Model 3 Loss Shrinkage')"
      ],
      "metadata": {
        "id": "uOdhGrbwwG71"
      },
      "execution_count": null,
      "outputs": []
    },
    {
      "cell_type": "markdown",
      "source": [
        "# Discussion\n",
        "\n",
        "In this section,you should discuss your work and make future plan. The discussion should address the following questions:\n",
        "  * Make assessment that the paper is reproducible or not.\n",
        "  * Explain why it is not reproducible if your results are kind negative.\n",
        "  * Describe “What was easy” and “What was difficult” during the reproduction.\n",
        "  * Make suggestions to the author or other reproducers on how to improve the reproducibility.\n",
        "  * What will you do in next phase.\n",
        "\n"
      ],
      "metadata": {
        "id": "qH75TNU71eRH"
      }
    },
    {
      "cell_type": "code",
      "source": [
        "# no code is required for this section\n",
        "'''\n",
        "if you want to use an image outside this notebook for explanaition,\n",
        "you can read and plot it here like the Scope of Reproducibility\n",
        "'''"
      ],
      "metadata": {
        "id": "E2VDXo5F4Frm"
      },
      "execution_count": null,
      "outputs": []
    },
    {
      "cell_type": "markdown",
      "source": [
        "# References\n",
        "\n",
        "1.   Sebastiano Barbieri1, James Kemp1, Oscar Perez-Concha, Sradha Kotwal,Martin Gallagher, Angus Ritchie & Louisa Jorm, Benchmarking Deep Learning Architectures for Predicting Readmission to the ICU and Describing Patients-at-Risk, Scientific Reports, 2020, Article number: 1111, https://doi.org/10.1038/s41598-020-58053-z\n",
        "\n",
        "\n",
        "2.   Alistair E.W. Johnson, Tom J. Pollard, Lu Shen, Li-wei H. Lehman, Mengling Feng, Mohammad Ghassemi, Benjamin Moody, Peter Szolovits, Leo Anthony Celi & Roger G. Mark , MIMIC-III, a freely accessible critical care database, Scientific Data, 2016,  Article number: 160035, https://www.nature.com/articles/sdata201635\n",
        "\n",
        "\n",
        "3.   Sonish Sivarajkumar, Haneef Ahamed Mohammad, David Oniani, Kirk Roberts, William Hersh, Hongfang Liu, Daqing He, Shyam Visweswaran & Yanshan Wang, Clinical Information Retrieval: A Literature Review, Journal of Healthcare Informatics Research, 2023, https://doi.org/10.1007/s41666-024-00159-4\n",
        "\n",
        "\n",
        "4.   Sobhan Moazemi, Sebastian Kalkho>, Steven Kessler, Zeynep Boztoprak,Vincent\n",
        "Hettlich, Artur Liebrecht, Roman Bibo, Bastian Dewitz, Artur Lichtenberg, Hug\n",
        "Aubin, and Falko Schimd (June 2022) Evaluating a Recurrent Neural Network Model\n",
        "for Predicting Readmission to Cardiovascular ICUs Based on Clinical Time Series\n",
        "Data Eng. Proc. 2022, 18(1) https://doi.org/10.3390/engproc2022018001\n",
        "\n",
        "5.   Yuhan Deng, Shuang Liu, Ziyao Wang, Yuxin Wang, Yong Jiang, and Baohua Liu.\n",
        "(2022). Explainable time-series deep learning models for the prediction of mortality,\n",
        "prolonged length of stay and 30-day readmission in intensive care patients. Front. Med., 28 September 2022 https://doi.org/10.3389/fmed.2022.933037\n",
        "\n",
        "6.   Yu-Wei Lin, Yuqian Zhou, Faraz Faghri, Michael J. Shaw, and Roy H. Campbell (2019). Analysis and prediction of unplanned intensive care unit readmission usingrecurrent neural networks with long short-term memory. Published: July 8, 2019 https://doi.org/10.1371/journal.pone.0218942\n",
        "\n",
        "\n",
        "\n",
        "\n",
        "- GitHub Links\n",
        "\n",
        "  https://github.com/sebbarb/time_aware_attention/blob/master/README.md\n",
        "\n",
        "  https://github.com/MIT-LCP/mimic-website\n",
        "\n",
        "  https://github.com/MIT-LCP/mimic-iii-paper/\n",
        "\n",
        "  https://github.com/MIT-LCP/mimic-code/tree/main/mimic-iii\n"
      ],
      "metadata": {
        "id": "SHMI2chl9omn"
      }
    }
  ]
}